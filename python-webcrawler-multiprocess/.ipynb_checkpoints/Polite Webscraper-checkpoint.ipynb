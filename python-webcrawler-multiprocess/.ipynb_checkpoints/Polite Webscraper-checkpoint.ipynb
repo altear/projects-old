{
 "cells": [
  {
   "cell_type": "code",
   "execution_count": 11,
   "metadata": {
    "collapsed": false
   },
   "outputs": [],
   "source": [
    "import multiprocessing as mp\n",
    "import logging\n",
    "import sys\n",
    "\n",
    "pool = mp.Pool()\n",
    "pool.apply_async\n",
    "pool.close()\n",
    "pool."
   ]
  },
  {
   "cell_type": "code",
   "execution_count": 28,
   "metadata": {
    "collapsed": false
   },
   "outputs": [
    {
     "name": "stdout",
     "output_type": "stream",
     "text": [
      "Overwriting out.py\n"
     ]
    }
   ],
   "source": [
    "%%writefile out.py\n",
    "import multiprocessing as mp\n",
    "import logging\n",
    "import sys\n",
    "import time\n",
    "\n",
    "logging.basicConfig(stream=sys.stdout, level=logging.DEBUG)\n",
    "logger = logging.getLogger(__name__)\n",
    "\n",
    "def worker(queue):\n",
    "    logger.info('hi')\n",
    "    queue.put(1)\n",
    "    return \n",
    "\n",
    "if __name__ == '__main__':\n",
    "    logger.info('hey')\n",
    "    \n",
    "    with mp.Pool(4) as pool, mp.Manager() as m:\n",
    "        queue = m.Queue()\n",
    "        pool.apply_async(worker, (queue,))\n",
    "        pool.apply_async(worker, (queue,))\n",
    "        pool.close()\n",
    "        pool.join()\n",
    "        print(queue.get(False, 1))"
   ]
  },
  {
   "cell_type": "code",
   "execution_count": 29,
   "metadata": {
    "collapsed": false
   },
   "outputs": [
    {
     "name": "stdout",
     "output_type": "stream",
     "text": [
      "INFO:__main__:hey\n",
      "INFO:__mp_main__:hi\n",
      "INFO:__mp_main__:hi\n",
      "1\n"
     ]
    }
   ],
   "source": [
    "! python out.py"
   ]
  },
  {
   "cell_type": "code",
   "execution_count": 67,
   "metadata": {
    "collapsed": false
   },
   "outputs": [
    {
     "name": "stdout",
     "output_type": "stream",
     "text": [
      "hello world 1\n",
      "hello world 2\n",
      "hello world 3\n",
      "hello world 0\n"
     ]
    }
   ],
   "source": [
    "import sched\n",
    "import time\n",
    "\n",
    "def foo(*args):\n",
    "    print('hello world ' + str(args[0]))\n",
    "    \n",
    "s = sched.scheduler()\n",
    "s.enter(1.25, 3, foo, (3, ))\n",
    "s.enter(1.25, 1, foo, (1, ))\n",
    "s.enter(1.25, 2, foo, (2, ))\n",
    "s.run()\n",
    "s.enter(1, 2, foo, (0, ))\n",
    "s.run()"
   ]
  },
  {
   "cell_type": "markdown",
   "metadata": {},
   "source": [
    "# Polite Webscraper of \n",
    "1. Fetch Webpage\n",
    "2. Fetch Downloads with Normcurved \n",
    "3. Fetch Webpage subsets"
   ]
  },
  {
   "cell_type": "code",
   "execution_count": 123,
   "metadata": {
    "collapsed": false
   },
   "outputs": [
    {
     "ename": "SyntaxError",
     "evalue": "invalid syntax (<ipython-input-123-601d543bb059>, line 20)",
     "output_type": "error",
     "traceback": [
      "\u001b[0;36m  File \u001b[0;32m\"<ipython-input-123-601d543bb059>\"\u001b[0;36m, line \u001b[0;32m20\u001b[0m\n\u001b[0;31m    ..\u001b[0m\n\u001b[0m    ^\u001b[0m\n\u001b[0;31mSyntaxError\u001b[0m\u001b[0;31m:\u001b[0m invalid syntax\n"
     ]
    }
   ],
   "source": [
    "import sched\n",
    "import numpy as np\n",
    "import requests\n",
    "import bs4\n",
    "import urllib\n",
    "import os\n",
    "from collections import deque\n",
    "\n",
    "# in this context, has no benefit over time.sleep - just using for practice\n",
    "s = sched.scheduler()\n",
    "\n",
    "# a simple queue using deques (deque = double ended queue)\n",
    "# deque's are threadsafe and have O(1) performance of pop's and appends in either direction\n",
    "q = deque()\n",
    "\n",
    "urls = [\n",
    "    r'https://archive.ics.uci.edu/ml/datasets/Abalone',\n",
    "]\n",
    "for url in urls:\n",
    "    q.append()\n",
    "\n",
    "def handle_response(url):\n",
    "    '''\n",
    "    :param: test\n",
    "    '''\n",
    "    url_path = urllib.parse.urlparse(url)[2]\n",
    "    resp = requests.get(url)\n",
    "    soup = bs4.BeautifulSoup(resp.text, 'lxml')\n",
    "\n",
    "    # handle top level\n",
    "    if url_path.split('/')[-2] == 'datasets':\n",
    "        data_folder = soup.find('a', text=\"Data Folder\")\n",
    "        if data_folder is None: \n",
    "            raise Exception(\"Did not find data folder. Perhaps api change\")\n",
    "\n",
    "        # get relative url\n",
    "        data_folder = data_folder.attrs['href']\n",
    "\n",
    "        # merge into absolute url\n",
    "        data_folder = urllib.parse.urljoin(url, data_folder)\n",
    "        q.append(data_folder)\n",
    "\n",
    "    # handle folder download\n",
    "    else:\n",
    "\n",
    "        # folder\n",
    "        if resp.url.endswith('/'): \n",
    "            _found_parent_dir = False\n",
    "            for row in soup.find('table').find_all('tr'):\n",
    "                # only save results below parent dir\n",
    "                if not _found_parent_dir: \n",
    "                    if row.find('td', text='Parent Directory') is not None:\n",
    "                        _found_parent_dir = True\n",
    "                    continue\n",
    "\n",
    "                child_link = row.find('a', href=True)\n",
    "                if child_link is None: continue \n",
    "\n",
    "                child_link = child_link.attrs['href']\n",
    "                child_link = urllib.parse.urljoin(resp.url, child_link)\n",
    "\n",
    "                q.append(child_link)\n",
    "\n",
    "        # file\n",
    "        else:\n",
    "            local_folder = os.path.join(*url_path.split('/')[3:-1])\n",
    "            local_path = os.path.join(*url_path.split('/')[3:])\n",
    "\n",
    "            if not os.path.exists(local_folder):\n",
    "                os.makedirs(local_folder)\n",
    "\n",
    "            with open(local_path, 'wb') as f:\n",
    "                for chunk in resp.iter_content(chunk_size=1024): \n",
    "                    if chunk: # filter out keep-alive new chunks\n",
    "                        f.write(chunk)\n",
    "                            \n",
    "def polite_webscraper():\n",
    "    try:\n",
    "        item = q.popleft()\n",
    "    except IndexError:\n",
    "        return # No URLs left in queue.\n",
    "    \n",
    "    handle_response(item)\n",
    "\n",
    "    delay = abs(np.random.normal(2.0, 0.25))\n",
    "    s.enter(delay, 1, foo)\n",
    "    s.run()\n",
    "    \n",
    "polite_webscraper()"
   ]
  },
  {
   "cell_type": "code",
   "execution_count": 124,
   "metadata": {
    "collapsed": false
   },
   "outputs": [
    {
     "ename": "SyntaxError",
     "evalue": "invalid syntax (<ipython-input-124-b0821c41aebb>, line 1)",
     "output_type": "error",
     "traceback": [
      "\u001b[0;36m  File \u001b[0;32m\"<ipython-input-124-b0821c41aebb>\"\u001b[0;36m, line \u001b[0;32m1\u001b[0m\n\u001b[0;31m    ..\u001b[0m\n\u001b[0m    ^\u001b[0m\n\u001b[0;31mSyntaxError\u001b[0m\u001b[0;31m:\u001b[0m invalid syntax\n"
     ]
    }
   ],
   "source": []
  },
  {
   "cell_type": "markdown",
   "metadata": {},
   "source": [
    "## Plot Delay Times"
   ]
  },
  {
   "cell_type": "code",
   "execution_count": 68,
   "metadata": {
    "collapsed": false
   },
   "outputs": [
    {
     "data": {
      "text/plain": [
       "<matplotlib.axes._subplots.AxesSubplot at 0x249b3b081d0>"
      ]
     },
     "execution_count": 68,
     "metadata": {},
     "output_type": "execute_result"
    },
    {
     "data": {
      "image/png": "[encoded data removed]",
      "text/plain": [
       "<matplotlib.figure.Figure at 0x249b3c5df28>"
      ]
     },
     "metadata": {},
     "output_type": "display_data"
    }
   ],
   "source": [
    "%matplotlib inline\n",
    "import seaborn as sb\n",
    "a = np.random.normal(2.0, 0.25, 1000)\n",
    "sb.distplot(a, kde=False)"
   ]
  }
 ],
 "metadata": {
  "anaconda-cloud": {},
  "kernelspec": {
   "display_name": "Python [conda root]",
   "language": "python",
   "name": "conda-root-py"
  },
  "language_info": {
   "codemirror_mode": {
    "name": "ipython",
    "version": 3
   },
   "file_extension": ".py",
   "mimetype": "text/x-python",
   "name": "python",
   "nbconvert_exporter": "python",
   "pygments_lexer": "ipython3",
   "version": "3.5.2"
  }
 },
 "nbformat": 4,
 "nbformat_minor": 1
}
