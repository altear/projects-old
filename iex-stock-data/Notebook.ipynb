{
 "cells": [
  {
   "cell_type": "markdown",
   "metadata": {},
   "source": [
    "Andre Telfer\n",
    "\n",
    "# REST APIs for Scrubs\n",
    "This is a notebook for showing how to get stock data using python.\n",
    "\n",
    "working with REST APIs is ridiculously easy in python. REST APIs normally work by taking in a variables in the URL Path/Parameters - you then use the url+params to send a get request which returns the data you want (often in JSON format).\n",
    "\n",
    "Often, they require a 'key' to be passed in the URL Parameters, however IEX does not right now\n",
    "\n",
    "# Resources\n",
    "Basically you just read the docs for whatever REST API you're using to figure out what the URL path should look like, and what params you need\n",
    "\n",
    "IEX is a REST API for getting stock data. [docs](https://iextrading.com/developer/docs/)\n"
   ]
  },
  {
   "cell_type": "code",
   "execution_count": null,
   "metadata": {},
   "outputs": [],
   "source": [
    "import requests\n",
    "import json\n",
    "\n",
    "def get_stock_chart(company):\n",
    "    '''\n",
    "    Gets the last 6m of data for a given company\n",
    "    \n",
    "    :param company: the company to request data for \n",
    "    '''\n",
    "    \n",
    "    # API URL Path, right now this gets 6 months of 'chart' data for a given company. \n",
    "    # The API docs describe chart data as a time series\n",
    "    url = \"https://api.iextrading.com/1.0/stock/{company}/chart/6m\".format(\n",
    "        company = company\n",
    "    )\n",
    "    \n",
    "    # API URL Params\n",
    "    params = None # we don't need any params, but this is how you'd do it if you did\n",
    "    \n",
    "    # send a REST get request to the URL Path with the given URL Params, save the response\n",
    "    resp = requests.get(url, params)\n",
    "    \n",
    "    # make sure the request was successful \n",
    "    assert resp.status_code == requests.status_codes.codes.OK\n",
    "    \n",
    "    # return the text body of the response\n",
    "    return json.loads(resp.text)\n",
    "\n",
    "# try getting 6 of data for aapl\n",
    "data = get_stock_chart('aapl')\n",
    "\n",
    "# print some of it prettily (indent lists/dictionaries)\n",
    "print(json.dumps(data, indent=4))"
   ]
  },
  {
   "cell_type": "markdown",
   "metadata": {},
   "source": [
    "# Working with the Data\n",
    "\n",
    "I mean, you could do this however you want.  \n",
    "\n",
    "Pandas is pretty nice, so that's what I use. There can be a bit of a learning curve to take full advantage of it. But I'm not an expert on it and it's already very useful.\n",
    "- read the docs, use stackoverflow. Pandas is very popular"
   ]
  },
  {
   "cell_type": "code",
   "execution_count": 36,
   "metadata": {},
   "outputs": [
    {
     "data": {
      "text/html": [
       "<div>\n",
       "<style>\n",
       "    .dataframe thead tr:only-child th {\n",
       "        text-align: right;\n",
       "    }\n",
       "\n",
       "    .dataframe thead th {\n",
       "        text-align: left;\n",
       "    }\n",
       "\n",
       "    .dataframe tbody tr th {\n",
       "        vertical-align: top;\n",
       "    }\n",
       "</style>\n",
       "<table border=\"1\" class=\"dataframe\">\n",
       "  <thead>\n",
       "    <tr style=\"text-align: right;\">\n",
       "      <th></th>\n",
       "      <th>change</th>\n",
       "      <th>changeOverTime</th>\n",
       "      <th>changePercent</th>\n",
       "      <th>close</th>\n",
       "      <th>date</th>\n",
       "      <th>high</th>\n",
       "      <th>label</th>\n",
       "      <th>low</th>\n",
       "      <th>open</th>\n",
       "      <th>unadjustedVolume</th>\n",
       "      <th>volume</th>\n",
       "      <th>vwap</th>\n",
       "    </tr>\n",
       "  </thead>\n",
       "  <tbody>\n",
       "    <tr>\n",
       "      <th>122</th>\n",
       "      <td>3.03</td>\n",
       "      <td>0.064627</td>\n",
       "      <td>1.844</td>\n",
       "      <td>167.37</td>\n",
       "      <td>2018-02-14</td>\n",
       "      <td>167.54</td>\n",
       "      <td>Feb 14</td>\n",
       "      <td>162.88</td>\n",
       "      <td>163.045</td>\n",
       "      <td>40644933</td>\n",
       "      <td>40644933</td>\n",
       "      <td>165.5906</td>\n",
       "    </tr>\n",
       "    <tr>\n",
       "      <th>123</th>\n",
       "      <td>5.62</td>\n",
       "      <td>0.100375</td>\n",
       "      <td>3.358</td>\n",
       "      <td>172.99</td>\n",
       "      <td>2018-02-15</td>\n",
       "      <td>173.09</td>\n",
       "      <td>Feb 15</td>\n",
       "      <td>169.00</td>\n",
       "      <td>169.790</td>\n",
       "      <td>51147171</td>\n",
       "      <td>51147171</td>\n",
       "      <td>171.4911</td>\n",
       "    </tr>\n",
       "    <tr>\n",
       "      <th>124</th>\n",
       "      <td>-0.56</td>\n",
       "      <td>0.096813</td>\n",
       "      <td>-0.324</td>\n",
       "      <td>172.43</td>\n",
       "      <td>2018-02-16</td>\n",
       "      <td>174.82</td>\n",
       "      <td>Feb 16</td>\n",
       "      <td>171.77</td>\n",
       "      <td>172.360</td>\n",
       "      <td>40176091</td>\n",
       "      <td>40176091</td>\n",
       "      <td>173.4476</td>\n",
       "    </tr>\n",
       "  </tbody>\n",
       "</table>\n",
       "</div>"
      ],
      "text/plain": [
       "     change  changeOverTime  changePercent   close        date    high  \\\n",
       "122    3.03        0.064627          1.844  167.37  2018-02-14  167.54   \n",
       "123    5.62        0.100375          3.358  172.99  2018-02-15  173.09   \n",
       "124   -0.56        0.096813         -0.324  172.43  2018-02-16  174.82   \n",
       "\n",
       "      label     low     open  unadjustedVolume    volume      vwap  \n",
       "122  Feb 14  162.88  163.045          40644933  40644933  165.5906  \n",
       "123  Feb 15  169.00  169.790          51147171  51147171  171.4911  \n",
       "124  Feb 16  171.77  172.360          40176091  40176091  173.4476  "
      ]
     },
     "metadata": {},
     "output_type": "display_data"
    },
    {
     "data": {
      "text/plain": [
       "date\n",
       "2018-02-12    163.89\n",
       "2018-02-13    164.75\n",
       "2018-02-14    167.54\n",
       "2018-02-15    173.09\n",
       "2018-02-16    174.82\n",
       "Name: high, dtype: float64"
      ]
     },
     "metadata": {},
     "output_type": "display_data"
    },
    {
     "data": {
      "text/plain": [
       "date\n",
       "2018-02-12    162.296667\n",
       "2018-02-13    162.441667\n",
       "2018-02-14    163.078333\n",
       "2018-02-15    164.693333\n",
       "2018-02-16    166.996667\n",
       "Name: high, dtype: float64"
      ]
     },
     "metadata": {},
     "output_type": "display_data"
    }
   ],
   "source": [
    "import pandas as pd\n",
    "from IPython.display import display\n",
    "\n",
    "# a dataframe is a convenient way to work with data\n",
    "df = pd.DataFrame(data)\n",
    "\n",
    "# lets try displaying the last 3 data points\n",
    "display(df.tail(3))\n",
    "\n",
    "# lets try selecting a column and displaying its last 5 data points\n",
    "# the 'high' column is from the REST API and is the highest value of the stock in the day\n",
    "df = df.set_index('date') # just going to set the index as the date \n",
    "display(df.high.tail(5))\n",
    "\n",
    "# lets take the rolling average of the high column to smooth it out a bit \n",
    "# The rolling mean is the average of a value and some number of previous values. \n",
    "r = df.high.rolling(window=6) # window is the number of previous values\n",
    "display(r.mean().tail(5))"
   ]
  }
 ],
 "metadata": {
  "kernelspec": {
   "display_name": "Python 3",
   "language": "python",
   "name": "python3"
  },
  "language_info": {
   "codemirror_mode": {
    "name": "ipython",
    "version": 3
   },
   "file_extension": ".py",
   "mimetype": "text/x-python",
   "name": "python",
   "nbconvert_exporter": "python",
   "pygments_lexer": "ipython3",
   "version": "3.5.3"
  }
 },
 "nbformat": 4,
 "nbformat_minor": 2
}
