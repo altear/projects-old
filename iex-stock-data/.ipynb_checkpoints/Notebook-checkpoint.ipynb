{
 "cells": [
  {
   "cell_type": "markdown",
   "metadata": {},
   "source": [
    "Andre Telfer\n",
    "\n",
    "For Scrubs\n",
    "This is a notebook for showing how to get stock data using python.\n",
    "\n",
    "- IEX is a REST API for getting stock data. [docs](https://iextrading.com/developer/docs/)\n",
    "- pandas is a python library for working with data.\n"
   ]
  },
  {
   "cell_type": "code",
   "execution_count": 1,
   "metadata": {},
   "outputs": [
    {
     "data": {
      "text/plain": [
       "<Response [200]>"
      ]
     },
     "execution_count": 1,
     "metadata": {},
     "output_type": "execute_result"
    }
   ],
   "source": [
    "import requests\n",
    "\n",
    "# working with REST APIs is ridiculously easy in python. \n",
    "# REST APIs normally work by taking in a variables in the URL Path/Parameters\n",
    "# Often, they require a 'key' to be passed in the URL Parameters, however IEX does not right now\n",
    "\n",
    "def get_stock_chart(company):\n",
    "    '''\n",
    "    Gets the last 6m of data for a given company\n",
    "    \n",
    "    :param company: the company to request data for \n",
    "    '''\n",
    "    \n",
    "    # create the URL Path\n",
    "    api_str = \"https://api.iextrading.com/1.0/stock/{company}/chart/6m\".format(\n",
    "        company = company\n",
    "    )\n",
    "    params = None # we don't need any params, but this is how you'd do it if you did\n",
    "    \n",
    "requests.get('https://api.iextrading.com/1.0/stock/aapl/chart/6m')"
   ]
  }
 ],
 "metadata": {
  "kernelspec": {
   "display_name": "Python 3",
   "language": "python",
   "name": "python3"
  },
  "language_info": {
   "codemirror_mode": {
    "name": "ipython",
    "version": 3
   },
   "file_extension": ".py",
   "mimetype": "text/x-python",
   "name": "python",
   "nbconvert_exporter": "python",
   "pygments_lexer": "ipython3",
   "version": "3.5.3"
  }
 },
 "nbformat": 4,
 "nbformat_minor": 2
}
